{
 "cells": [
  {
   "cell_type": "code",
   "execution_count": 1,
   "id": "6e494a60",
   "metadata": {},
   "outputs": [],
   "source": [
    "import cv2\n",
    "from matplotlib import pyplot as plt\n",
    "import imutils"
   ]
  },
  {
   "cell_type": "code",
   "execution_count": 2,
   "id": "343f3e51",
   "metadata": {},
   "outputs": [],
   "source": [
    "import pytesseract"
   ]
  },
  {
   "cell_type": "code",
   "execution_count": 3,
   "id": "5204c0c2",
   "metadata": {},
   "outputs": [],
   "source": [
    "img = cv2.imread(\"id1.jpg\")\n",
    "gray = cv2.cvtColor(img, cv2.COLOR_BGR2GRAY)\n"
   ]
  },
  {
   "cell_type": "code",
   "execution_count": 4,
   "id": "10ca0457",
   "metadata": {},
   "outputs": [],
   "source": [
    "th, threshold = cv2.threshold(gray, 127, 255, cv2.THRESH_TRUNC)"
   ]
  },
  {
   "cell_type": "code",
   "execution_count": 5,
   "id": "9f190562",
   "metadata": {},
   "outputs": [],
   "source": [
    "result = pytesseract.image_to_string((threshold), lang=\"eng\")"
   ]
  },
  {
   "cell_type": "code",
   "execution_count": 6,
   "id": "468c98ab",
   "metadata": {},
   "outputs": [
    {
     "data": {
      "text/plain": [
       "\"a a ee\\n\\ni ee re oe\\n\\n \\n\\n   \\n  \\n\\nOCU\\nrT :\\nai :\\nial \\\\ '\\nBTec Te\\n. “ : e adi\\noh\\ntc ~ i as } r\\n‘\\n‘ ah, a a |\\n\\n \\n\\nmena 34. wag’ Ge Student's Signatur\\n— 7 Ws a\\n\\n   \\n\\ne\\n\\x0c\""
      ]
     },
     "execution_count": 6,
     "metadata": {},
     "output_type": "execute_result"
    }
   ],
   "source": [
    "result"
   ]
  },
  {
   "cell_type": "code",
   "execution_count": 7,
   "id": "d55d7b8e",
   "metadata": {},
   "outputs": [
    {
     "ename": "NameError",
     "evalue": "name 'a' is not defined",
     "output_type": "error",
     "traceback": [
      "\u001b[0;31m---------------------------------------------------------------------------\u001b[0m",
      "\u001b[0;31mNameError\u001b[0m                                 Traceback (most recent call last)",
      "Input \u001b[0;32mIn [7]\u001b[0m, in \u001b[0;36m<cell line: 1>\u001b[0;34m()\u001b[0m\n\u001b[0;32m----> 1\u001b[0m \u001b[43ma\u001b[49m\n",
      "\u001b[0;31mNameError\u001b[0m: name 'a' is not defined"
     ]
    }
   ],
   "source": [
    "a"
   ]
  },
  {
   "cell_type": "code",
   "execution_count": null,
   "id": "db46ff40",
   "metadata": {},
   "outputs": [],
   "source": [
    "bfilter = cv2.bilateralFilter(gray, 11, 17, 17)"
   ]
  },
  {
   "cell_type": "code",
   "execution_count": null,
   "id": "b217b494",
   "metadata": {},
   "outputs": [],
   "source": [
    "edged = cv2.Canny(bfilter, 30, 200)"
   ]
  },
  {
   "cell_type": "code",
   "execution_count": null,
   "id": "2b571ac5",
   "metadata": {},
   "outputs": [],
   "source": [
    "plt.imshow(cv2.cvtColor(edged, cv2.COLOR_BGR2RGB))"
   ]
  },
  {
   "cell_type": "code",
   "execution_count": null,
   "id": "c7a975bd",
   "metadata": {},
   "outputs": [],
   "source": [
    "keypoints = cv2.findContours(edged.copy(), cv2.RETR_TREE, cv2.CHAIN_APPROX_SIMPLE)"
   ]
  },
  {
   "cell_type": "code",
   "execution_count": null,
   "id": "eab528f0",
   "metadata": {},
   "outputs": [],
   "source": [
    "contours = imutils.grab_contours(keypoints)"
   ]
  },
  {
   "cell_type": "code",
   "execution_count": null,
   "id": "fa1b73eb",
   "metadata": {},
   "outputs": [],
   "source": [
    "contours = sorted(contours, key=cv2.contourArea, reverse=True)"
   ]
  },
  {
   "cell_type": "code",
   "execution_count": null,
   "id": "22ce1940",
   "metadata": {},
   "outputs": [],
   "source": [
    "len(contours)"
   ]
  },
  {
   "cell_type": "code",
   "execution_count": null,
   "id": "007ece35",
   "metadata": {},
   "outputs": [],
   "source": [
    "location = None\n",
    "for contour in contours:\n",
    "    approx = cv2.approxPolyDP(contour, 100, True)\n",
    "    print(approx)\n",
    "    if len(approx) == 4:\n",
    "        location = approx\n",
    "        print(\"rtyrty\")\n",
    "        break"
   ]
  },
  {
   "cell_type": "code",
   "execution_count": null,
   "id": "cfe17165",
   "metadata": {},
   "outputs": [],
   "source": []
  },
  {
   "cell_type": "code",
   "execution_count": null,
   "id": "09447f74",
   "metadata": {},
   "outputs": [],
   "source": [
    "location"
   ]
  },
  {
   "cell_type": "code",
   "execution_count": null,
   "id": "b71d54fd",
   "metadata": {},
   "outputs": [],
   "source": [
    "import numpy as np"
   ]
  },
  {
   "cell_type": "code",
   "execution_count": null,
   "id": "4ea50398",
   "metadata": {},
   "outputs": [],
   "source": [
    "#for contours in "
   ]
  },
  {
   "cell_type": "code",
   "execution_count": null,
   "id": "0ab71ce7",
   "metadata": {},
   "outputs": [],
   "source": [
    "mask = np.zeros(gray.shape, np.uint8)\n",
    "new_img = cv2.drawContours(mask, [location], 0, 255, -1)"
   ]
  },
  {
   "cell_type": "code",
   "execution_count": null,
   "id": "9c57d114",
   "metadata": {},
   "outputs": [],
   "source": [
    "new_img = cv2.bitwise_and(img, img, mask=mask)"
   ]
  },
  {
   "cell_type": "code",
   "execution_count": null,
   "id": "d5cbbe58",
   "metadata": {},
   "outputs": [],
   "source": [
    "plt.imshow(cv2.cvtColor(new_img, cv2.COLOR_BGR2RGB))"
   ]
  },
  {
   "cell_type": "code",
   "execution_count": null,
   "id": "78b595b8",
   "metadata": {},
   "outputs": [],
   "source": [
    "#new code"
   ]
  },
  {
   "cell_type": "code",
   "execution_count": null,
   "id": "afc235f1",
   "metadata": {},
   "outputs": [],
   "source": [
    "threshold_img = cv2.threshold(gray, 0, 255, cv2.THRESH_BINARY | cv2.THRESH_OTSU)[1]"
   ]
  },
  {
   "cell_type": "code",
   "execution_count": null,
   "id": "3d5105ec",
   "metadata": {},
   "outputs": [],
   "source": [
    "plt.imshow(cv2.cvtColor(threshold_img, cv2.COLOR_BGR2RGB))"
   ]
  },
  {
   "cell_type": "code",
   "execution_count": null,
   "id": "f75a8f8f",
   "metadata": {},
   "outputs": [],
   "source": [
    "import pytesseract"
   ]
  },
  {
   "cell_type": "code",
   "execution_count": null,
   "id": "954cf882",
   "metadata": {},
   "outputs": [],
   "source": [
    "custom_config = r'--oem 3 --psm 6'"
   ]
  },
  {
   "cell_type": "code",
   "execution_count": null,
   "id": "2c53e0df",
   "metadata": {},
   "outputs": [],
   "source": [
    "details = pytesseract.image_to_data(threshold_img, output_type=pytesseract.Output.DICT, config=custom_config, lang=\"eng\")"
   ]
  },
  {
   "cell_type": "code",
   "execution_count": null,
   "id": "4d942750",
   "metadata": {},
   "outputs": [],
   "source": [
    "print(details.keys())"
   ]
  },
  {
   "cell_type": "code",
   "execution_count": null,
   "id": "0933bef7",
   "metadata": {},
   "outputs": [],
   "source": [
    "total_boxes = len(details['text'])\n"
   ]
  },
  {
   "cell_type": "code",
   "execution_count": null,
   "id": "76cc16e2",
   "metadata": {},
   "outputs": [],
   "source": [
    "for sequence_number in range(total_boxes):\n",
    "\n",
    "    if int(details['conf'][sequence_number]) >30:\n",
    "\n",
    "        (x, y, w, h) = (details['left'][sequence_number], details['top'][sequence_number], details['width'][sequence_number],  details['height'][sequence_number])\n",
    "\n",
    "        threshold_img = cv2.rectangle(threshold_img, (x, y), (x + w, y + h), (0, 255, 0), 2)\n",
    "\n",
    " # display image\n",
    "\n",
    "plt.imshow(cv2.cvtColor(threshold_img, cv2.COLOR_BGR2RGB))"
   ]
  },
  {
   "cell_type": "code",
   "execution_count": null,
   "id": "a1fc8815",
   "metadata": {},
   "outputs": [],
   "source": [
    "parse_text = []\n",
    "\n",
    "word_list = []\n",
    "\n",
    "last_word = ''\n",
    "\n",
    "for word in details['text']:\n",
    "\n",
    "    if word!='':\n",
    "\n",
    "        word_list.append(word)\n",
    "\n",
    "        last_word = word\n",
    "\n",
    "    if (last_word!='' and word == '') or (word==details['text'][-1]):\n",
    "\n",
    "        parse_text.append(word_list)\n",
    "\n",
    "        word_list = []"
   ]
  },
  {
   "cell_type": "code",
   "execution_count": null,
   "id": "938b16d5",
   "metadata": {},
   "outputs": [],
   "source": [
    "import csv\n",
    "\n",
    "with open('result_text.txt',  'w', newline=\"\") as file:\n",
    "\n",
    "    csv.writer(file, delimiter=\" \").writerows(parse_text)"
   ]
  },
  {
   "cell_type": "code",
   "execution_count": null,
   "id": "a8eccb8d",
   "metadata": {},
   "outputs": [],
   "source": []
  }
 ],
 "metadata": {
  "kernelspec": {
   "display_name": "Python 3 (ipykernel)",
   "language": "python",
   "name": "python3"
  },
  "language_info": {
   "codemirror_mode": {
    "name": "ipython",
    "version": 3
   },
   "file_extension": ".py",
   "mimetype": "text/x-python",
   "name": "python",
   "nbconvert_exporter": "python",
   "pygments_lexer": "ipython3",
   "version": "3.8.10"
  }
 },
 "nbformat": 4,
 "nbformat_minor": 5
}
